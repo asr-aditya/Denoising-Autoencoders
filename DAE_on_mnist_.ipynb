{
  "nbformat": 4,
  "nbformat_minor": 0,
  "metadata": {
    "colab": {
      "name": "DAE on mnist .ipynb",
      "provenance": [],
      "collapsed_sections": []
    },
    "kernelspec": {
      "name": "python3",
      "display_name": "Python 3"
    },
    "accelerator": "GPU"
  },
  "cells": [
    {
      "cell_type": "code",
      "metadata": {
        "id": "dQsm7sISnxGm",
        "colab_type": "code",
        "outputId": "0b6d412d-b85f-4b65-dd68-7633511920f8",
        "colab": {
          "base_uri": "https://localhost:8080/",
          "height": 34
        }
      },
      "source": [
        "from __future__ import absolute_import, division, print_function, unicode_literals\n",
        "\n",
        "try:\n",
        "  # %tensorflow_version only exists in Colab.\n",
        "  %tensorflow_version 2.x\n",
        "except Exception:\n",
        "  pass\n",
        "import tensorflow as tf"
      ],
      "execution_count": 1,
      "outputs": [
        {
          "output_type": "stream",
          "text": [
            "TensorFlow 2.x selected.\n"
          ],
          "name": "stdout"
        }
      ]
    },
    {
      "cell_type": "code",
      "metadata": {
        "id": "eutg9S8zody1",
        "colab_type": "code",
        "colab": {}
      },
      "source": [
        "import numpy as np\n",
        "import matplotlib.pyplot as plt\n",
        "import imageio\n",
        "from IPython import display"
      ],
      "execution_count": 0,
      "outputs": []
    },
    {
      "cell_type": "code",
      "metadata": {
        "id": "YP1Sjn0mPRe0",
        "colab_type": "code",
        "outputId": "6d648462-329c-4b44-dbaa-a8f50a7a547d",
        "colab": {
          "base_uri": "https://localhost:8080/",
          "height": 34
        }
      },
      "source": [
        "tf.__version__"
      ],
      "execution_count": 0,
      "outputs": [
        {
          "output_type": "execute_result",
          "data": {
            "text/plain": [
              "'2.0.0'"
            ]
          },
          "metadata": {
            "tags": []
          },
          "execution_count": 3
        }
      ]
    },
    {
      "cell_type": "markdown",
      "metadata": {
        "id": "EKwd-hw5D_7m",
        "colab_type": "text"
      },
      "source": [
        "Load the MNIST dataset"
      ]
    },
    {
      "cell_type": "code",
      "metadata": {
        "id": "9KCUSpfuCdxp",
        "colab_type": "code",
        "colab": {}
      },
      "source": [
        "(train_images, _), (test_images, _) = tf.keras.datasets.fashion_mnist.load_data()"
      ],
      "execution_count": 0,
      "outputs": []
    },
    {
      "cell_type": "code",
      "metadata": {
        "id": "YJltJRyCKCWA",
        "colab_type": "code",
        "outputId": "36077154-1b38-48b5-f8be-a30cc4816188",
        "colab": {
          "base_uri": "https://localhost:8080/",
          "height": 85
        }
      },
      "source": [
        "print(train_images[1].shape)\n",
        "print(len(train_images))\n",
        "print(np.product(train_images[1].shape))\n",
        "print(*train_images.shape)"
      ],
      "execution_count": 0,
      "outputs": [
        {
          "output_type": "stream",
          "text": [
            "(28, 28)\n",
            "60000\n",
            "784\n",
            "60000 28 28\n"
          ],
          "name": "stdout"
        }
      ]
    },
    {
      "cell_type": "code",
      "metadata": {
        "id": "ABNI4AU5CllA",
        "colab_type": "code",
        "outputId": "4888f3fb-8b7d-40d4-bba2-6869dad4fb7e",
        "colab": {
          "base_uri": "https://localhost:8080/",
          "height": 54
        }
      },
      "source": [
        "train_images = train_images.reshape(len(train_images),np.product(train_images[1].shape)).astype('float32')\n",
        "test_images = test_images.reshape(len(test_images),np.product(test_images[0].shape)).astype('float32')\n",
        "\n",
        "# Normalizing the images to the range of [0., 1.]\n",
        "train_images /= 255.\n",
        "test_images /= 255.\n",
        "\n",
        "'''\n",
        "# Binarization\n",
        "train_images[train_images >= .5] = 1.\n",
        "train_images[train_images < .5] = 0.\n",
        "test_images[test_images >= .5] = 1.\n",
        "test_images[test_images < .5] = 0.\n",
        "'''"
      ],
      "execution_count": 0,
      "outputs": [
        {
          "output_type": "execute_result",
          "data": {
            "text/plain": [
              "'\\n# Binarization\\ntrain_images[train_images >= .5] = 1.\\ntrain_images[train_images < .5] = 0.\\ntest_images[test_images >= .5] = 1.\\ntest_images[test_images < .5] = 0.\\n'"
            ]
          },
          "metadata": {
            "tags": []
          },
          "execution_count": 6
        }
      ]
    },
    {
      "cell_type": "code",
      "metadata": {
        "id": "9a2J3qdApMt_",
        "colab_type": "code",
        "colab": {}
      },
      "source": [
        "noise_factor = 0.5\n",
        "\n",
        "noise_train = train_images + noise_factor * np.random.randn(*train_images.shape)\n",
        "noise_test = test_images + noise_factor * np.random.randn(*test_images.shape)\n",
        "# Clip the images to be between 0 and 1\n",
        "noise_train = np.clip(noise_train, 0., 1.)\n",
        "noise_test = np.clip(noise_test, 0., 1.)"
      ],
      "execution_count": 0,
      "outputs": []
    },
    {
      "cell_type": "markdown",
      "metadata": {
        "id": "wcmyJzXxM1N7",
        "colab_type": "text"
      },
      "source": [
        "creating model"
      ]
    },
    {
      "cell_type": "code",
      "metadata": {
        "id": "StDlV2EbM4mX",
        "colab_type": "code",
        "colab": {}
      },
      "source": [
        "input_image = tf.keras.layers.Input(shape = (784,))\n",
        "encoded = tf.keras.layers.Dense(32, activation = 'relu')(input_image)\n",
        "decoded = tf.keras.layers.Dense(784, activation='sigmoid')(encoded)\n",
        "autoencoder = tf.keras.models.Model(input_image,decoded)"
      ],
      "execution_count": 0,
      "outputs": []
    },
    {
      "cell_type": "code",
      "metadata": {
        "id": "FPuWQRudOTJo",
        "colab_type": "code",
        "colab": {}
      },
      "source": [
        "autoencoder.compile(optimizer='adam', loss='binary_crossentropy', metrics=['accuracy'], )"
      ],
      "execution_count": 0,
      "outputs": []
    },
    {
      "cell_type": "code",
      "metadata": {
        "id": "6-MIf8v4HGKi",
        "colab_type": "code",
        "colab": {}
      },
      "source": [
        "%load_ext tensorboard\n",
        "import datetime\n",
        "import os\n",
        "\n",
        "log_dir = os.path.join(\"logs/fit/\" + datetime.datetime.now().strftime(\"%Y%m%d-%H%M%S\"))\n",
        "tensorboard_callback = tf.keras.callbacks.TensorBoard(log_dir=log_dir,histogram_freq=1)"
      ],
      "execution_count": 0,
      "outputs": []
    },
    {
      "cell_type": "code",
      "metadata": {
        "id": "nQ1_vbPIOfCx",
        "colab_type": "code",
        "outputId": "bdcb4253-e483-46e8-e1b3-ca61126a4458",
        "colab": {
          "base_uri": "https://localhost:8080/",
          "height": 1000
        }
      },
      "source": [
        "autoencoder.fit(noise_train, train_images,\n",
        "                epochs=50,\n",
        "                batch_size=256,\n",
        "                shuffle=True,\n",
        "                validation_data=(noise_test, test_images),\n",
        "                callbacks=[tensorboard_callback]\n",
        "                )"
      ],
      "execution_count": 0,
      "outputs": [
        {
          "output_type": "stream",
          "text": [
            "Train on 60000 samples, validate on 10000 samples\n",
            "Epoch 1/50\n",
            "60000/60000 [==============================] - 4s 62us/sample - loss: 0.4325 - accuracy: 0.4822 - val_loss: 0.3605 - val_accuracy: 0.4976\n",
            "Epoch 2/50\n",
            "60000/60000 [==============================] - 3s 49us/sample - loss: 0.3432 - accuracy: 0.5012 - val_loss: 0.3368 - val_accuracy: 0.5001\n",
            "Epoch 3/50\n",
            "60000/60000 [==============================] - 3s 50us/sample - loss: 0.3303 - accuracy: 0.5025 - val_loss: 0.3296 - val_accuracy: 0.5001\n",
            "Epoch 4/50\n",
            "60000/60000 [==============================] - 3s 50us/sample - loss: 0.3242 - accuracy: 0.5034 - val_loss: 0.3244 - val_accuracy: 0.5012\n",
            "Epoch 5/50\n",
            "60000/60000 [==============================] - 3s 51us/sample - loss: 0.3198 - accuracy: 0.5041 - val_loss: 0.3205 - val_accuracy: 0.5020\n",
            "Epoch 6/50\n",
            "60000/60000 [==============================] - 3s 51us/sample - loss: 0.3163 - accuracy: 0.5046 - val_loss: 0.3174 - val_accuracy: 0.5027\n",
            "Epoch 7/50\n",
            "60000/60000 [==============================] - 3s 49us/sample - loss: 0.3136 - accuracy: 0.5050 - val_loss: 0.3152 - val_accuracy: 0.5029\n",
            "Epoch 8/50\n",
            "60000/60000 [==============================] - 3s 49us/sample - loss: 0.3115 - accuracy: 0.5053 - val_loss: 0.3133 - val_accuracy: 0.5031\n",
            "Epoch 9/50\n",
            "60000/60000 [==============================] - 3s 49us/sample - loss: 0.3099 - accuracy: 0.5056 - val_loss: 0.3118 - val_accuracy: 0.5033\n",
            "Epoch 10/50\n",
            "60000/60000 [==============================] - 3s 51us/sample - loss: 0.3085 - accuracy: 0.5057 - val_loss: 0.3108 - val_accuracy: 0.5032\n",
            "Epoch 11/50\n",
            "60000/60000 [==============================] - 3s 52us/sample - loss: 0.3072 - accuracy: 0.5059 - val_loss: 0.3093 - val_accuracy: 0.5037\n",
            "Epoch 12/50\n",
            "60000/60000 [==============================] - 3s 56us/sample - loss: 0.3063 - accuracy: 0.5060 - val_loss: 0.3088 - val_accuracy: 0.5042\n",
            "Epoch 13/50\n",
            "60000/60000 [==============================] - 3s 53us/sample - loss: 0.3055 - accuracy: 0.5061 - val_loss: 0.3080 - val_accuracy: 0.5035\n",
            "Epoch 14/50\n",
            "60000/60000 [==============================] - 3s 49us/sample - loss: 0.3049 - accuracy: 0.5061 - val_loss: 0.3074 - val_accuracy: 0.5037\n",
            "Epoch 15/50\n",
            "60000/60000 [==============================] - 3s 51us/sample - loss: 0.3045 - accuracy: 0.5062 - val_loss: 0.3070 - val_accuracy: 0.5039\n",
            "Epoch 16/50\n",
            "60000/60000 [==============================] - 3s 52us/sample - loss: 0.3041 - accuracy: 0.5062 - val_loss: 0.3071 - val_accuracy: 0.5035\n",
            "Epoch 17/50\n",
            "60000/60000 [==============================] - 3s 55us/sample - loss: 0.3038 - accuracy: 0.5062 - val_loss: 0.3064 - val_accuracy: 0.5040\n",
            "Epoch 18/50\n",
            "60000/60000 [==============================] - 3s 51us/sample - loss: 0.3035 - accuracy: 0.5063 - val_loss: 0.3062 - val_accuracy: 0.5040\n",
            "Epoch 19/50\n",
            "60000/60000 [==============================] - 3s 52us/sample - loss: 0.3033 - accuracy: 0.5063 - val_loss: 0.3062 - val_accuracy: 0.5037\n",
            "Epoch 20/50\n",
            "60000/60000 [==============================] - 3s 52us/sample - loss: 0.3031 - accuracy: 0.5063 - val_loss: 0.3059 - val_accuracy: 0.5040\n",
            "Epoch 21/50\n",
            "60000/60000 [==============================] - 3s 53us/sample - loss: 0.3029 - accuracy: 0.5063 - val_loss: 0.3057 - val_accuracy: 0.5039\n",
            "Epoch 22/50\n",
            "60000/60000 [==============================] - 3s 54us/sample - loss: 0.3027 - accuracy: 0.5063 - val_loss: 0.3057 - val_accuracy: 0.5044\n",
            "Epoch 23/50\n",
            "60000/60000 [==============================] - 3s 50us/sample - loss: 0.3025 - accuracy: 0.5064 - val_loss: 0.3055 - val_accuracy: 0.5043\n",
            "Epoch 24/50\n",
            "60000/60000 [==============================] - 3s 50us/sample - loss: 0.3024 - accuracy: 0.5064 - val_loss: 0.3055 - val_accuracy: 0.5038\n",
            "Epoch 25/50\n",
            "60000/60000 [==============================] - 3s 50us/sample - loss: 0.3023 - accuracy: 0.5064 - val_loss: 0.3052 - val_accuracy: 0.5040\n",
            "Epoch 26/50\n",
            "60000/60000 [==============================] - 3s 52us/sample - loss: 0.3022 - accuracy: 0.5064 - val_loss: 0.3052 - val_accuracy: 0.5043\n",
            "Epoch 27/50\n",
            "60000/60000 [==============================] - 3s 54us/sample - loss: 0.3021 - accuracy: 0.5064 - val_loss: 0.3051 - val_accuracy: 0.5039\n",
            "Epoch 28/50\n",
            "60000/60000 [==============================] - 3s 52us/sample - loss: 0.3020 - accuracy: 0.5064 - val_loss: 0.3050 - val_accuracy: 0.5042\n",
            "Epoch 29/50\n",
            "60000/60000 [==============================] - 3s 51us/sample - loss: 0.3019 - accuracy: 0.5064 - val_loss: 0.3049 - val_accuracy: 0.5038\n",
            "Epoch 30/50\n",
            "60000/60000 [==============================] - 3s 51us/sample - loss: 0.3018 - accuracy: 0.5064 - val_loss: 0.3049 - val_accuracy: 0.5039\n",
            "Epoch 31/50\n",
            "60000/60000 [==============================] - 3s 50us/sample - loss: 0.3017 - accuracy: 0.5064 - val_loss: 0.3047 - val_accuracy: 0.5041\n",
            "Epoch 32/50\n",
            "60000/60000 [==============================] - 3s 50us/sample - loss: 0.3016 - accuracy: 0.5064 - val_loss: 0.3048 - val_accuracy: 0.5042\n",
            "Epoch 33/50\n",
            "60000/60000 [==============================] - 3s 50us/sample - loss: 0.3016 - accuracy: 0.5064 - val_loss: 0.3047 - val_accuracy: 0.5039\n",
            "Epoch 34/50\n",
            "60000/60000 [==============================] - 3s 50us/sample - loss: 0.3015 - accuracy: 0.5064 - val_loss: 0.3046 - val_accuracy: 0.5040\n",
            "Epoch 35/50\n",
            "60000/60000 [==============================] - 3s 50us/sample - loss: 0.3014 - accuracy: 0.5064 - val_loss: 0.3045 - val_accuracy: 0.5040\n",
            "Epoch 36/50\n",
            "60000/60000 [==============================] - 3s 51us/sample - loss: 0.3014 - accuracy: 0.5064 - val_loss: 0.3044 - val_accuracy: 0.5040\n",
            "Epoch 37/50\n",
            "60000/60000 [==============================] - 3s 51us/sample - loss: 0.3013 - accuracy: 0.5064 - val_loss: 0.3044 - val_accuracy: 0.5042\n",
            "Epoch 38/50\n",
            "60000/60000 [==============================] - 3s 50us/sample - loss: 0.3012 - accuracy: 0.5064 - val_loss: 0.3044 - val_accuracy: 0.5040\n",
            "Epoch 39/50\n",
            "60000/60000 [==============================] - 3s 49us/sample - loss: 0.3012 - accuracy: 0.5064 - val_loss: 0.3044 - val_accuracy: 0.5039\n",
            "Epoch 40/50\n",
            "60000/60000 [==============================] - 3s 50us/sample - loss: 0.3011 - accuracy: 0.5064 - val_loss: 0.3044 - val_accuracy: 0.5040\n",
            "Epoch 41/50\n",
            "60000/60000 [==============================] - 3s 50us/sample - loss: 0.3011 - accuracy: 0.5064 - val_loss: 0.3043 - val_accuracy: 0.5039\n",
            "Epoch 42/50\n",
            "60000/60000 [==============================] - 3s 51us/sample - loss: 0.3011 - accuracy: 0.5064 - val_loss: 0.3043 - val_accuracy: 0.5041\n",
            "Epoch 43/50\n",
            "60000/60000 [==============================] - 3s 51us/sample - loss: 0.3010 - accuracy: 0.5064 - val_loss: 0.3045 - val_accuracy: 0.5044\n",
            "Epoch 44/50\n",
            "60000/60000 [==============================] - 3s 50us/sample - loss: 0.3010 - accuracy: 0.5064 - val_loss: 0.3041 - val_accuracy: 0.5041\n",
            "Epoch 45/50\n",
            "60000/60000 [==============================] - 3s 48us/sample - loss: 0.3009 - accuracy: 0.5064 - val_loss: 0.3042 - val_accuracy: 0.5038\n",
            "Epoch 46/50\n",
            "60000/60000 [==============================] - 3s 50us/sample - loss: 0.3009 - accuracy: 0.5064 - val_loss: 0.3041 - val_accuracy: 0.5040\n",
            "Epoch 47/50\n",
            "60000/60000 [==============================] - 3s 49us/sample - loss: 0.3009 - accuracy: 0.5064 - val_loss: 0.3042 - val_accuracy: 0.5043\n",
            "Epoch 48/50\n",
            "60000/60000 [==============================] - 3s 49us/sample - loss: 0.3008 - accuracy: 0.5064 - val_loss: 0.3042 - val_accuracy: 0.5038\n",
            "Epoch 49/50\n",
            "60000/60000 [==============================] - 3s 48us/sample - loss: 0.3008 - accuracy: 0.5064 - val_loss: 0.3041 - val_accuracy: 0.5038\n",
            "Epoch 50/50\n",
            "60000/60000 [==============================] - 3s 48us/sample - loss: 0.3008 - accuracy: 0.5064 - val_loss: 0.3041 - val_accuracy: 0.5039\n"
          ],
          "name": "stdout"
        },
        {
          "output_type": "execute_result",
          "data": {
            "text/plain": [
              "<tensorflow.python.keras.callbacks.History at 0x7fa449d51c18>"
            ]
          },
          "metadata": {
            "tags": []
          },
          "execution_count": 11
        }
      ]
    },
    {
      "cell_type": "code",
      "metadata": {
        "id": "RZslq9rsO9S6",
        "colab_type": "code",
        "outputId": "85d679ca-c8c4-4bda-942b-70eff7a92f87",
        "colab": {
          "base_uri": "https://localhost:8080/",
          "height": 119
        }
      },
      "source": [
        "!pip uninstall grpcio"
      ],
      "execution_count": 0,
      "outputs": [
        {
          "output_type": "stream",
          "text": [
            "Uninstalling grpcio-1.15.0:\n",
            "  Would remove:\n",
            "    /usr/local/lib/python3.6/dist-packages/grpc/*\n",
            "    /usr/local/lib/python3.6/dist-packages/grpcio-1.15.0.dist-info/*\n",
            "Proceed (y/n)? y\n",
            "  Successfully uninstalled grpcio-1.15.0\n"
          ],
          "name": "stdout"
        }
      ]
    },
    {
      "cell_type": "code",
      "metadata": {
        "id": "b7vYEUj-PEMO",
        "colab_type": "code",
        "outputId": "6f382236-96fd-4388-dfb8-eab3d5866206",
        "colab": {
          "base_uri": "https://localhost:8080/",
          "height": 224
        }
      },
      "source": [
        "!pip install grpcio==1.24.3"
      ],
      "execution_count": 0,
      "outputs": [
        {
          "output_type": "stream",
          "text": [
            "Collecting grpcio==1.24.3\n",
            "\u001b[?25l  Downloading https://files.pythonhosted.org/packages/30/54/c9810421e41ec0bca2228c6f06b1b1189b196b69533cbcac9f71b44727f8/grpcio-1.24.3-cp36-cp36m-manylinux2010_x86_64.whl (2.2MB)\n",
            "\r\u001b[K     |▏                               | 10kB 22.1MB/s eta 0:00:01\r\u001b[K     |▎                               | 20kB 30.7MB/s eta 0:00:01\r\u001b[K     |▌                               | 30kB 34.0MB/s eta 0:00:01\r\u001b[K     |▋                               | 40kB 35.8MB/s eta 0:00:01\r\u001b[K     |▊                               | 51kB 38.1MB/s eta 0:00:01\r\u001b[K     |█                               | 61kB 40.8MB/s eta 0:00:01\r\u001b[K     |█                               | 71kB 37.3MB/s eta 0:00:01\r\u001b[K     |█▏                              | 81kB 37.7MB/s eta 0:00:01\r\u001b[K     |█▍                              | 92kB 39.2MB/s eta 0:00:01\r\u001b[K     |█▌                              | 102kB 39.1MB/s eta 0:00:01\r\u001b[K     |█▋                              | 112kB 39.1MB/s eta 0:00:01\r\u001b[K     |█▉                              | 122kB 39.1MB/s eta 0:00:01\r\u001b[K     |██                              | 133kB 39.1MB/s eta 0:00:01\r\u001b[K     |██                              | 143kB 39.1MB/s eta 0:00:01\r\u001b[K     |██▎                             | 153kB 39.1MB/s eta 0:00:01\r\u001b[K     |██▍                             | 163kB 39.1MB/s eta 0:00:01\r\u001b[K     |██▌                             | 174kB 39.1MB/s eta 0:00:01\r\u001b[K     |██▊                             | 184kB 39.1MB/s eta 0:00:01\r\u001b[K     |██▉                             | 194kB 39.1MB/s eta 0:00:01\r\u001b[K     |███                             | 204kB 39.1MB/s eta 0:00:01\r\u001b[K     |███▏                            | 215kB 39.1MB/s eta 0:00:01\r\u001b[K     |███▎                            | 225kB 39.1MB/s eta 0:00:01\r\u001b[K     |███▍                            | 235kB 39.1MB/s eta 0:00:01\r\u001b[K     |███▋                            | 245kB 39.1MB/s eta 0:00:01\r\u001b[K     |███▊                            | 256kB 39.1MB/s eta 0:00:01\r\u001b[K     |███▉                            | 266kB 39.1MB/s eta 0:00:01\r\u001b[K     |████                            | 276kB 39.1MB/s eta 0:00:01\r\u001b[K     |████▏                           | 286kB 39.1MB/s eta 0:00:01\r\u001b[K     |████▎                           | 296kB 39.1MB/s eta 0:00:01\r\u001b[K     |████▌                           | 307kB 39.1MB/s eta 0:00:01\r\u001b[K     |████▋                           | 317kB 39.1MB/s eta 0:00:01\r\u001b[K     |████▊                           | 327kB 39.1MB/s eta 0:00:01\r\u001b[K     |█████                           | 337kB 39.1MB/s eta 0:00:01\r\u001b[K     |█████                           | 348kB 39.1MB/s eta 0:00:01\r\u001b[K     |█████▏                          | 358kB 39.1MB/s eta 0:00:01\r\u001b[K     |█████▍                          | 368kB 39.1MB/s eta 0:00:01\r\u001b[K     |█████▌                          | 378kB 39.1MB/s eta 0:00:01\r\u001b[K     |█████▋                          | 389kB 39.1MB/s eta 0:00:01\r\u001b[K     |█████▉                          | 399kB 39.1MB/s eta 0:00:01\r\u001b[K     |██████                          | 409kB 39.1MB/s eta 0:00:01\r\u001b[K     |██████                          | 419kB 39.1MB/s eta 0:00:01\r\u001b[K     |██████▎                         | 430kB 39.1MB/s eta 0:00:01\r\u001b[K     |██████▍                         | 440kB 39.1MB/s eta 0:00:01\r\u001b[K     |██████▌                         | 450kB 39.1MB/s eta 0:00:01\r\u001b[K     |██████▊                         | 460kB 39.1MB/s eta 0:00:01\r\u001b[K     |██████▉                         | 471kB 39.1MB/s eta 0:00:01\r\u001b[K     |███████                         | 481kB 39.1MB/s eta 0:00:01\r\u001b[K     |███████▏                        | 491kB 39.1MB/s eta 0:00:01\r\u001b[K     |███████▎                        | 501kB 39.1MB/s eta 0:00:01\r\u001b[K     |███████▍                        | 512kB 39.1MB/s eta 0:00:01\r\u001b[K     |███████▋                        | 522kB 39.1MB/s eta 0:00:01\r\u001b[K     |███████▊                        | 532kB 39.1MB/s eta 0:00:01\r\u001b[K     |███████▉                        | 542kB 39.1MB/s eta 0:00:01\r\u001b[K     |████████                        | 552kB 39.1MB/s eta 0:00:01\r\u001b[K     |████████▏                       | 563kB 39.1MB/s eta 0:00:01\r\u001b[K     |████████▎                       | 573kB 39.1MB/s eta 0:00:01\r\u001b[K     |████████▌                       | 583kB 39.1MB/s eta 0:00:01\r\u001b[K     |████████▋                       | 593kB 39.1MB/s eta 0:00:01\r\u001b[K     |████████▊                       | 604kB 39.1MB/s eta 0:00:01\r\u001b[K     |█████████                       | 614kB 39.1MB/s eta 0:00:01\r\u001b[K     |█████████                       | 624kB 39.1MB/s eta 0:00:01\r\u001b[K     |█████████▏                      | 634kB 39.1MB/s eta 0:00:01\r\u001b[K     |█████████▍                      | 645kB 39.1MB/s eta 0:00:01\r\u001b[K     |█████████▌                      | 655kB 39.1MB/s eta 0:00:01\r\u001b[K     |█████████▋                      | 665kB 39.1MB/s eta 0:00:01\r\u001b[K     |█████████▉                      | 675kB 39.1MB/s eta 0:00:01\r\u001b[K     |██████████                      | 686kB 39.1MB/s eta 0:00:01\r\u001b[K     |██████████                      | 696kB 39.1MB/s eta 0:00:01\r\u001b[K     |██████████▎                     | 706kB 39.1MB/s eta 0:00:01\r\u001b[K     |██████████▍                     | 716kB 39.1MB/s eta 0:00:01\r\u001b[K     |██████████▌                     | 727kB 39.1MB/s eta 0:00:01\r\u001b[K     |██████████▊                     | 737kB 39.1MB/s eta 0:00:01\r\u001b[K     |██████████▉                     | 747kB 39.1MB/s eta 0:00:01\r\u001b[K     |███████████                     | 757kB 39.1MB/s eta 0:00:01\r\u001b[K     |███████████▏                    | 768kB 39.1MB/s eta 0:00:01\r\u001b[K     |███████████▎                    | 778kB 39.1MB/s eta 0:00:01\r\u001b[K     |███████████▌                    | 788kB 39.1MB/s eta 0:00:01\r\u001b[K     |███████████▋                    | 798kB 39.1MB/s eta 0:00:01\r\u001b[K     |███████████▊                    | 808kB 39.1MB/s eta 0:00:01\r\u001b[K     |████████████                    | 819kB 39.1MB/s eta 0:00:01\r\u001b[K     |████████████                    | 829kB 39.1MB/s eta 0:00:01\r\u001b[K     |████████████▏                   | 839kB 39.1MB/s eta 0:00:01\r\u001b[K     |████████████▍                   | 849kB 39.1MB/s eta 0:00:01\r\u001b[K     |████████████▌                   | 860kB 39.1MB/s eta 0:00:01\r\u001b[K     |████████████▋                   | 870kB 39.1MB/s eta 0:00:01\r\u001b[K     |████████████▉                   | 880kB 39.1MB/s eta 0:00:01\r\u001b[K     |█████████████                   | 890kB 39.1MB/s eta 0:00:01\r\u001b[K     |█████████████                   | 901kB 39.1MB/s eta 0:00:01\r\u001b[K     |█████████████▎                  | 911kB 39.1MB/s eta 0:00:01\r\u001b[K     |█████████████▍                  | 921kB 39.1MB/s eta 0:00:01\r\u001b[K     |█████████████▌                  | 931kB 39.1MB/s eta 0:00:01\r\u001b[K     |█████████████▊                  | 942kB 39.1MB/s eta 0:00:01\r\u001b[K     |█████████████▉                  | 952kB 39.1MB/s eta 0:00:01\r\u001b[K     |██████████████                  | 962kB 39.1MB/s eta 0:00:01\r\u001b[K     |██████████████▏                 | 972kB 39.1MB/s eta 0:00:01\r\u001b[K     |██████████████▎                 | 983kB 39.1MB/s eta 0:00:01\r\u001b[K     |██████████████▍                 | 993kB 39.1MB/s eta 0:00:01\r\u001b[K     |██████████████▋                 | 1.0MB 39.1MB/s eta 0:00:01\r\u001b[K     |██████████████▊                 | 1.0MB 39.1MB/s eta 0:00:01\r\u001b[K     |██████████████▉                 | 1.0MB 39.1MB/s eta 0:00:01\r\u001b[K     |███████████████                 | 1.0MB 39.1MB/s eta 0:00:01\r\u001b[K     |███████████████▏                | 1.0MB 39.1MB/s eta 0:00:01\r\u001b[K     |███████████████▎                | 1.1MB 39.1MB/s eta 0:00:01\r\u001b[K     |███████████████▌                | 1.1MB 39.1MB/s eta 0:00:01\r\u001b[K     |███████████████▋                | 1.1MB 39.1MB/s eta 0:00:01\r\u001b[K     |███████████████▊                | 1.1MB 39.1MB/s eta 0:00:01\r\u001b[K     |████████████████                | 1.1MB 39.1MB/s eta 0:00:01\r\u001b[K     |████████████████                | 1.1MB 39.1MB/s eta 0:00:01\r\u001b[K     |████████████████▏               | 1.1MB 39.1MB/s eta 0:00:01\r\u001b[K     |████████████████▍               | 1.1MB 39.1MB/s eta 0:00:01\r\u001b[K     |████████████████▌               | 1.1MB 39.1MB/s eta 0:00:01\r\u001b[K     |████████████████▋               | 1.1MB 39.1MB/s eta 0:00:01\r\u001b[K     |████████████████▉               | 1.2MB 39.1MB/s eta 0:00:01\r\u001b[K     |█████████████████               | 1.2MB 39.1MB/s eta 0:00:01\r\u001b[K     |█████████████████               | 1.2MB 39.1MB/s eta 0:00:01\r\u001b[K     |█████████████████▎              | 1.2MB 39.1MB/s eta 0:00:01\r\u001b[K     |█████████████████▍              | 1.2MB 39.1MB/s eta 0:00:01\r\u001b[K     |█████████████████▌              | 1.2MB 39.1MB/s eta 0:00:01\r\u001b[K     |█████████████████▊              | 1.2MB 39.1MB/s eta 0:00:01\r\u001b[K     |█████████████████▉              | 1.2MB 39.1MB/s eta 0:00:01\r\u001b[K     |██████████████████              | 1.2MB 39.1MB/s eta 0:00:01\r\u001b[K     |██████████████████▏             | 1.2MB 39.1MB/s eta 0:00:01\r\u001b[K     |██████████████████▎             | 1.3MB 39.1MB/s eta 0:00:01\r\u001b[K     |██████████████████▍             | 1.3MB 39.1MB/s eta 0:00:01\r\u001b[K     |██████████████████▋             | 1.3MB 39.1MB/s eta 0:00:01\r\u001b[K     |██████████████████▊             | 1.3MB 39.1MB/s eta 0:00:01\r\u001b[K     |██████████████████▉             | 1.3MB 39.1MB/s eta 0:00:01\r\u001b[K     |███████████████████             | 1.3MB 39.1MB/s eta 0:00:01\r\u001b[K     |███████████████████▏            | 1.3MB 39.1MB/s eta 0:00:01\r\u001b[K     |███████████████████▎            | 1.3MB 39.1MB/s eta 0:00:01\r\u001b[K     |███████████████████▌            | 1.3MB 39.1MB/s eta 0:00:01\r\u001b[K     |███████████████████▋            | 1.4MB 39.1MB/s eta 0:00:01\r\u001b[K     |███████████████████▊            | 1.4MB 39.1MB/s eta 0:00:01\r\u001b[K     |████████████████████            | 1.4MB 39.1MB/s eta 0:00:01\r\u001b[K     |████████████████████            | 1.4MB 39.1MB/s eta 0:00:01\r\u001b[K     |████████████████████▏           | 1.4MB 39.1MB/s eta 0:00:01\r\u001b[K     |████████████████████▍           | 1.4MB 39.1MB/s eta 0:00:01\r\u001b[K     |████████████████████▌           | 1.4MB 39.1MB/s eta 0:00:01\r\u001b[K     |████████████████████▋           | 1.4MB 39.1MB/s eta 0:00:01\r\u001b[K     |████████████████████▉           | 1.4MB 39.1MB/s eta 0:00:01\r\u001b[K     |█████████████████████           | 1.4MB 39.1MB/s eta 0:00:01\r\u001b[K     |█████████████████████           | 1.5MB 39.1MB/s eta 0:00:01\r\u001b[K     |█████████████████████▎          | 1.5MB 39.1MB/s eta 0:00:01\r\u001b[K     |█████████████████████▍          | 1.5MB 39.1MB/s eta 0:00:01\r\u001b[K     |█████████████████████▌          | 1.5MB 39.1MB/s eta 0:00:01\r\u001b[K     |█████████████████████▊          | 1.5MB 39.1MB/s eta 0:00:01\r\u001b[K     |█████████████████████▉          | 1.5MB 39.1MB/s eta 0:00:01\r\u001b[K     |██████████████████████          | 1.5MB 39.1MB/s eta 0:00:01\r\u001b[K     |██████████████████████▏         | 1.5MB 39.1MB/s eta 0:00:01\r\u001b[K     |██████████████████████▎         | 1.5MB 39.1MB/s eta 0:00:01\r\u001b[K     |██████████████████████▌         | 1.5MB 39.1MB/s eta 0:00:01\r\u001b[K     |██████████████████████▋         | 1.6MB 39.1MB/s eta 0:00:01\r\u001b[K     |██████████████████████▊         | 1.6MB 39.1MB/s eta 0:00:01\r\u001b[K     |███████████████████████         | 1.6MB 39.1MB/s eta 0:00:01\r\u001b[K     |███████████████████████         | 1.6MB 39.1MB/s eta 0:00:01\r\u001b[K     |███████████████████████▏        | 1.6MB 39.1MB/s eta 0:00:01\r\u001b[K     |███████████████████████▍        | 1.6MB 39.1MB/s eta 0:00:01\r\u001b[K     |███████████████████████▌        | 1.6MB 39.1MB/s eta 0:00:01\r\u001b[K     |███████████████████████▋        | 1.6MB 39.1MB/s eta 0:00:01\r\u001b[K     |███████████████████████▉        | 1.6MB 39.1MB/s eta 0:00:01\r\u001b[K     |████████████████████████        | 1.6MB 39.1MB/s eta 0:00:01\r\u001b[K     |████████████████████████        | 1.7MB 39.1MB/s eta 0:00:01\r\u001b[K     |████████████████████████▎       | 1.7MB 39.1MB/s eta 0:00:01\r\u001b[K     |████████████████████████▍       | 1.7MB 39.1MB/s eta 0:00:01\r\u001b[K     |████████████████████████▌       | 1.7MB 39.1MB/s eta 0:00:01\r\u001b[K     |████████████████████████▊       | 1.7MB 39.1MB/s eta 0:00:01\r\u001b[K     |████████████████████████▉       | 1.7MB 39.1MB/s eta 0:00:01\r\u001b[K     |█████████████████████████       | 1.7MB 39.1MB/s eta 0:00:01\r\u001b[K     |█████████████████████████▏      | 1.7MB 39.1MB/s eta 0:00:01\r\u001b[K     |█████████████████████████▎      | 1.7MB 39.1MB/s eta 0:00:01\r\u001b[K     |█████████████████████████▍      | 1.8MB 39.1MB/s eta 0:00:01\r\u001b[K     |█████████████████████████▋      | 1.8MB 39.1MB/s eta 0:00:01\r\u001b[K     |█████████████████████████▊      | 1.8MB 39.1MB/s eta 0:00:01\r\u001b[K     |█████████████████████████▉      | 1.8MB 39.1MB/s eta 0:00:01\r\u001b[K     |██████████████████████████      | 1.8MB 39.1MB/s eta 0:00:01\r\u001b[K     |██████████████████████████▏     | 1.8MB 39.1MB/s eta 0:00:01\r\u001b[K     |██████████████████████████▎     | 1.8MB 39.1MB/s eta 0:00:01\r\u001b[K     |██████████████████████████▌     | 1.8MB 39.1MB/s eta 0:00:01\r\u001b[K     |██████████████████████████▋     | 1.8MB 39.1MB/s eta 0:00:01\r\u001b[K     |██████████████████████████▊     | 1.8MB 39.1MB/s eta 0:00:01\r\u001b[K     |███████████████████████████     | 1.9MB 39.1MB/s eta 0:00:01\r\u001b[K     |███████████████████████████     | 1.9MB 39.1MB/s eta 0:00:01\r\u001b[K     |███████████████████████████▏    | 1.9MB 39.1MB/s eta 0:00:01\r\u001b[K     |███████████████████████████▍    | 1.9MB 39.1MB/s eta 0:00:01\r\u001b[K     |███████████████████████████▌    | 1.9MB 39.1MB/s eta 0:00:01\r\u001b[K     |███████████████████████████▋    | 1.9MB 39.1MB/s eta 0:00:01\r\u001b[K     |███████████████████████████▉    | 1.9MB 39.1MB/s eta 0:00:01\r\u001b[K     |████████████████████████████    | 1.9MB 39.1MB/s eta 0:00:01\r\u001b[K     |████████████████████████████    | 1.9MB 39.1MB/s eta 0:00:01\r\u001b[K     |████████████████████████████▎   | 1.9MB 39.1MB/s eta 0:00:01\r\u001b[K     |████████████████████████████▍   | 2.0MB 39.1MB/s eta 0:00:01\r\u001b[K     |████████████████████████████▌   | 2.0MB 39.1MB/s eta 0:00:01\r\u001b[K     |████████████████████████████▊   | 2.0MB 39.1MB/s eta 0:00:01\r\u001b[K     |████████████████████████████▉   | 2.0MB 39.1MB/s eta 0:00:01\r\u001b[K     |█████████████████████████████   | 2.0MB 39.1MB/s eta 0:00:01\r\u001b[K     |█████████████████████████████▏  | 2.0MB 39.1MB/s eta 0:00:01\r\u001b[K     |█████████████████████████████▎  | 2.0MB 39.1MB/s eta 0:00:01\r\u001b[K     |█████████████████████████████▍  | 2.0MB 39.1MB/s eta 0:00:01\r\u001b[K     |█████████████████████████████▋  | 2.0MB 39.1MB/s eta 0:00:01\r\u001b[K     |█████████████████████████████▊  | 2.0MB 39.1MB/s eta 0:00:01\r\u001b[K     |█████████████████████████████▉  | 2.1MB 39.1MB/s eta 0:00:01\r\u001b[K     |██████████████████████████████  | 2.1MB 39.1MB/s eta 0:00:01\r\u001b[K     |██████████████████████████████▏ | 2.1MB 39.1MB/s eta 0:00:01\r\u001b[K     |██████████████████████████████▎ | 2.1MB 39.1MB/s eta 0:00:01\r\u001b[K     |██████████████████████████████▌ | 2.1MB 39.1MB/s eta 0:00:01\r\u001b[K     |██████████████████████████████▋ | 2.1MB 39.1MB/s eta 0:00:01\r\u001b[K     |██████████████████████████████▊ | 2.1MB 39.1MB/s eta 0:00:01\r\u001b[K     |███████████████████████████████ | 2.1MB 39.1MB/s eta 0:00:01\r\u001b[K     |███████████████████████████████ | 2.1MB 39.1MB/s eta 0:00:01\r\u001b[K     |███████████████████████████████▏| 2.2MB 39.1MB/s eta 0:00:01\r\u001b[K     |███████████████████████████████▍| 2.2MB 39.1MB/s eta 0:00:01\r\u001b[K     |███████████████████████████████▌| 2.2MB 39.1MB/s eta 0:00:01\r\u001b[K     |███████████████████████████████▋| 2.2MB 39.1MB/s eta 0:00:01\r\u001b[K     |███████████████████████████████▉| 2.2MB 39.1MB/s eta 0:00:01\r\u001b[K     |████████████████████████████████| 2.2MB 39.1MB/s eta 0:00:01\r\u001b[K     |████████████████████████████████| 2.2MB 39.1MB/s \n",
            "\u001b[?25hRequirement already satisfied: six>=1.5.2 in /usr/local/lib/python3.6/dist-packages (from grpcio==1.24.3) (1.12.0)\n",
            "Installing collected packages: grpcio\n",
            "Successfully installed grpcio-1.24.3\n"
          ],
          "name": "stdout"
        },
        {
          "output_type": "display_data",
          "data": {
            "application/vnd.colab-display-data+json": {
              "pip_warning": {
                "packages": [
                  "grpc"
                ]
              }
            }
          },
          "metadata": {
            "tags": []
          }
        }
      ]
    },
    {
      "cell_type": "code",
      "metadata": {
        "id": "ANAVdknzHgRh",
        "colab_type": "code",
        "outputId": "71c648ef-788c-478e-e821-cced89b99c46",
        "colab": {
          "base_uri": "https://localhost:8080/",
          "height": 34
        }
      },
      "source": [
        "\n",
        "!kill 1050\n",
        "%tensorboard --logdir logs/fit/"
      ],
      "execution_count": 0,
      "outputs": [
        {
          "output_type": "stream",
          "text": [
            "/bin/bash: line 0: kill: (1050) - No such process\n"
          ],
          "name": "stdout"
        },
        {
          "output_type": "display_data",
          "data": {
            "text/html": [
              "\n",
              "    <div id=\"root\"></div>\n",
              "    <script>\n",
              "      (function() {\n",
              "        window.TENSORBOARD_ENV = window.TENSORBOARD_ENV || {};\n",
              "        window.TENSORBOARD_ENV[\"IN_COLAB\"] = true;\n",
              "        document.querySelector(\"base\").href = \"https://localhost:6006\";\n",
              "        function fixUpTensorboard(root) {\n",
              "          const tftb = root.querySelector(\"tf-tensorboard\");\n",
              "          // Disable the fragment manipulation behavior in Colab. Not\n",
              "          // only is the behavior not useful (as the iframe's location\n",
              "          // is not visible to the user), it causes TensorBoard's usage\n",
              "          // of `window.replace` to navigate away from the page and to\n",
              "          // the `localhost:<port>` URL specified by the base URI, which\n",
              "          // in turn causes the frame to (likely) crash.\n",
              "          tftb.removeAttribute(\"use-hash\");\n",
              "        }\n",
              "        function executeAllScripts(root) {\n",
              "          // When `script` elements are inserted into the DOM by\n",
              "          // assigning to an element's `innerHTML`, the scripts are not\n",
              "          // executed. Thus, we manually re-insert these scripts so that\n",
              "          // TensorBoard can initialize itself.\n",
              "          for (const script of root.querySelectorAll(\"script\")) {\n",
              "            const newScript = document.createElement(\"script\");\n",
              "            newScript.type = script.type;\n",
              "            newScript.textContent = script.textContent;\n",
              "            root.appendChild(newScript);\n",
              "            script.remove();\n",
              "          }\n",
              "        }\n",
              "        function setHeight(root, height) {\n",
              "          // We set the height dynamically after the TensorBoard UI has\n",
              "          // been initialized. This avoids an intermediate state in\n",
              "          // which the container plus the UI become taller than the\n",
              "          // final width and cause the Colab output frame to be\n",
              "          // permanently resized, eventually leading to an empty\n",
              "          // vertical gap below the TensorBoard UI. It's not clear\n",
              "          // exactly what causes this problematic intermediate state,\n",
              "          // but setting the height late seems to fix it.\n",
              "          root.style.height = `${height}px`;\n",
              "        }\n",
              "        const root = document.getElementById(\"root\");\n",
              "        fetch(\".\")\n",
              "          .then((x) => x.text())\n",
              "          .then((html) => void (root.innerHTML = html))\n",
              "          .then(() => fixUpTensorboard(root))\n",
              "          .then(() => executeAllScripts(root))\n",
              "          .then(() => setHeight(root, 800));\n",
              "      })();\n",
              "    </script>\n",
              "  "
            ],
            "text/plain": [
              "<IPython.core.display.HTML object>"
            ]
          },
          "metadata": {
            "tags": []
          }
        }
      ]
    },
    {
      "cell_type": "markdown",
      "metadata": {
        "id": "lPJSnosTPSGi",
        "colab_type": "text"
      },
      "source": [
        "VISUALIZING THE RECONSTRUCTED DATA AND BOTTLE NECK IMAGES"
      ]
    },
    {
      "cell_type": "code",
      "metadata": {
        "id": "aOnY0FMdSW26",
        "colab_type": "code",
        "colab": {}
      },
      "source": [
        "decoded_imgs = autoencoder.predict(noise_test)"
      ],
      "execution_count": 0,
      "outputs": []
    },
    {
      "cell_type": "code",
      "metadata": {
        "id": "XKbxK6tVSJYJ",
        "colab_type": "code",
        "outputId": "ebbc29f3-3e77-4d5e-8797-58527d768e26",
        "colab": {
          "base_uri": "https://localhost:8080/",
          "height": 248
        }
      },
      "source": [
        "n = 10  # how many digits we will display\n",
        "plt.figure(figsize=(20, 4))\n",
        "for i in range(n):\n",
        "    # display original\n",
        "    ax = plt.subplot(2, n, i + 1)\n",
        "    plt.imshow(noise_test[i].reshape(28, 28))\n",
        "    plt.gray()\n",
        "    ax.get_xaxis().set_visible(False)\n",
        "    ax.get_yaxis().set_visible(False)\n",
        "\n",
        "    # display reconstruction\n",
        "    ax = plt.subplot(2, n, i + 1 + n)\n",
        "    plt.imshow(decoded_imgs[i].reshape(28, 28))\n",
        "    plt.gray()\n",
        "    ax.get_xaxis().set_visible(False)\n",
        "    ax.get_yaxis().set_visible(False)\n",
        "plt.show()"
      ],
      "execution_count": 0,
      "outputs": [
        {
          "output_type": "display_data",
          "data": {
            "image/png": "[encoded data removed]",
            "text/plain": [
              "<Figure size 1440x288 with 20 Axes>"
            ]
          },
          "metadata": {
            "tags": []
          }
        }
      ]
    }
  ]
}